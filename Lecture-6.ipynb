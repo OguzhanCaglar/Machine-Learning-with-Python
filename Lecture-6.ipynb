{
 "cells": [
  {
   "cell_type": "code",
   "execution_count": 1,
   "metadata": {},
   "outputs": [
    {
     "name": "stdout",
     "output_type": "stream",
     "text": [
      "Lecture-6\n"
     ]
    }
   ],
   "source": [
    "print('Lecture-6')"
   ]
  },
  {
   "cell_type": "markdown",
   "metadata": {},
   "source": [
    "### Veri Kümesindeki Eksik ve Geçersiz Verilerin Ele alınması (Lecture-27 devamı)\n",
    "\n",
    "Veri kümesini eksik veri bakımından analiz ettikten sonra şimdi de eksik veirlerin nasıl ele alınacağı üzerinde duralım. \n",
    "\n",
    "Melbourne Housing Snapshot: https://www.kaggle.com/datasets/dansbecker/melbourne-housing-snapshot?resource=download\n",
    "\n",
    "melbourne'deki gayrimenkul analizi için hazırlanmış bir veri kümesidir. MHS. 21 özellikten oluşmaktadır."
   ]
  },
  {
   "cell_type": "code",
   "execution_count": 2,
   "metadata": {},
   "outputs": [
    {
     "name": "stdout",
     "output_type": "stream",
     "text": [
      "Toplam Sütun Sayısı: 21\n",
      "Toplam Satır Sayısı: 13580\n",
      "Eksik verilerin bulunduğu sütunlar: ['Car', 'BuildingArea', 'YearBuilt', 'CouncilArea']\n",
      "Eksik verilerin bulunduğu satırların sayısı: 7384\n",
      "Eksik verilerin bulunduğu satırların Oranı: 0.543740795287187\n"
     ]
    }
   ],
   "source": [
    "import pandas as pd\n",
    "\n",
    "df = pd.read_csv('melb_data.csv')\n",
    "\n",
    "missing_cols = [col_name for col_name in df.columns if df[col_name].isna().any()]\n",
    "total_missing_rows = pd.isna(df).any(axis=1).sum()\n",
    "total_missing_rows_ratio = total_missing_rows / len(df)\n",
    "\n",
    "print(f'Toplam Sütun Sayısı: {df.shape[1]}')\n",
    "print(f'Toplam Satır Sayısı: {df.shape[0]}')\n",
    "print(f'Eksik verilerin bulunduğu sütunlar: {missing_cols}')\n",
    "print(f'Eksik verilerin bulunduğu satırların sayısı: {total_missing_rows}')\n",
    "print(f'Eksik verilerin bulunduğu satırların Oranı: {total_missing_rows_ratio}')"
   ]
  },
  {
   "cell_type": "markdown",
   "metadata": {},
   "source": [
    "Eksik verilerin ele alınmasında temel olarak iki yöntem kullanılmaktadır.\n",
    "\n",
    "1) Eksik verilerin bulunduğu satır ya da sütunların tamamen atılması yöntemi.\n",
    "2) Eksik verilerin başka değerlerle doldurulması (imputation) yöntemi.\n",
    "\n",
    "Eksik veriler özellikle belli sütunlarda oluşmuşsa eksik verilerin bulunduğu satırlaın atılması \"yanlı (biased)\" bir veri kümesinin oluşmasına yol açabilecektir. \n",
    "\n",
    "dropna."
   ]
  },
  {
   "cell_type": "code",
   "execution_count": 3,
   "metadata": {},
   "outputs": [
    {
     "name": "stdout",
     "output_type": "stream",
     "text": [
      "(6196, 21)\n"
     ]
    }
   ],
   "source": [
    "deleted_rows_df = df.dropna(axis=0)\n",
    "print(deleted_rows_df.shape)"
   ]
  },
  {
   "cell_type": "code",
   "execution_count": 4,
   "metadata": {},
   "outputs": [
    {
     "name": "stdout",
     "output_type": "stream",
     "text": [
      "(13580, 17)\n"
     ]
    }
   ],
   "source": [
    "deleted_cols_df = df.dropna(axis=1)\n",
    "print(deleted_cols_df.shape)"
   ]
  },
  {
   "cell_type": "markdown",
   "metadata": {},
   "source": [
    "Eksik verilerin ele alınmasında diğer bir strateji de eksik veriler yerine başka değerlerin yerleştirilmesi işlemidir. Buna \"imputation\" denilmektedir. \n",
    "\n",
    "- Eksik verilerin ilgili sütun ortalaması, medyanı ya da mod değeri ile doldurulması yöntemi -> en sık kullanılan yöntem\n",
    "- Eksik verilerin sütundaki önceki verilerle ya da sonraki verilerle doldurulması yöntemi\n",
    "- Eksik değerlerin tahmin yapma yoluyla doldurulması yöntemi\n",
    "- Eksik verilerin kategorik sütunlarda farklı bir sınıf ile temsil edilmesi yöntemi\n",
    "- Eksik verilerin KNN (k-Nearest Neighbours) algoritmasıyla doldurulması yöntemi\n",
    "- Eksik verilerin rastgele değerlerle doldurulması yöntemi\n",
    "\n",
    "MHS --> ['Car', 'BuildingArea', 'YearBuilt', 'CouncilArea']\n",
    "'CAR' -> Araba sayısına ilişkin bir değer. ayrık oransal bir ölçek. Bu durumda eksik verileri sütun ortalamasına göre doldurabiliriz. Ancak ortalama aldığımızda sayılar ayrık olmaktan çıkabilecektir. Eğer değerlerin ayrıklığı korunmak isteniyorsa yuvarlama yapılması uygun olabilmektedir. "
   ]
  },
  {
   "cell_type": "code",
   "execution_count": 7,
   "metadata": {},
   "outputs": [
    {
     "name": "stdout",
     "output_type": "stream",
     "text": [
      "Car sütununun ortalaması: 1.6118556701030928\n"
     ]
    }
   ],
   "source": [
    "import numpy as np\n",
    "\n",
    "print('Car sütununun ortalaması: {}'.format(df['Car'].mean()))\n",
    "df['Car'].fillna(np.round(df['Car'].mean()), inplace=True)"
   ]
  },
  {
   "cell_type": "code",
   "execution_count": 9,
   "metadata": {},
   "outputs": [
    {
     "data": {
      "text/plain": [
       "0"
      ]
     },
     "execution_count": 9,
     "metadata": {},
     "output_type": "execute_result"
    }
   ],
   "source": [
    "df['Car'].isna().sum()"
   ]
  },
  {
   "cell_type": "markdown",
   "metadata": {},
   "source": [
    "Veri kümemizdeki \"BuildingArea\" sütunu da \"ayrık sayısal (discrete numeric) oransal ölçeğe\" ilişkin bir sütundur.\n"
   ]
  },
  {
   "cell_type": "code",
   "execution_count": 10,
   "metadata": {},
   "outputs": [
    {
     "name": "stdout",
     "output_type": "stream",
     "text": [
      "BuildingArea sütununun ortalaması: 151.96764988779805\n"
     ]
    }
   ],
   "source": [
    "print('BuildingArea sütununun ortalaması: {}'.format(df['BuildingArea'].mean()))\n",
    "df['BuildingArea'].fillna(np.round(df['BuildingArea'].mean()), inplace=True)"
   ]
  },
  {
   "cell_type": "code",
   "execution_count": 11,
   "metadata": {},
   "outputs": [
    {
     "data": {
      "text/plain": [
       "0"
      ]
     },
     "execution_count": 11,
     "metadata": {},
     "output_type": "execute_result"
    }
   ],
   "source": [
    "df['BuildingArea'].isna().sum()"
   ]
  },
  {
   "cell_type": "code",
   "execution_count": 12,
   "metadata": {},
   "outputs": [
    {
     "data": {
      "text/plain": [
       "0        152.0\n",
       "1         79.0\n",
       "2        150.0\n",
       "3        152.0\n",
       "4        142.0\n",
       "         ...  \n",
       "13575    152.0\n",
       "13576    133.0\n",
       "13577    152.0\n",
       "13578    157.0\n",
       "13579    112.0\n",
       "Name: BuildingArea, Length: 13580, dtype: float64"
      ]
     },
     "execution_count": 12,
     "metadata": {},
     "output_type": "execute_result"
    }
   ],
   "source": [
    "df['BuildingArea']"
   ]
  },
  {
   "cell_type": "markdown",
   "metadata": {},
   "source": [
    "\"YearBuilt\" sütunu binanın yapım yılını belirtmektedir. Biz burada bu yıl bilgisinin sıralı bir ölçeğer ilişkin olduğunu kabul edeceğiz ve doldurma işleminde median kullanacağız."
   ]
  },
  {
   "cell_type": "code",
   "execution_count": 14,
   "metadata": {},
   "outputs": [
    {
     "name": "stdout",
     "output_type": "stream",
     "text": [
      "YearBuilt sütununun Medianı: 1970.0\n"
     ]
    }
   ],
   "source": [
    "print('YearBuilt sütununun Medianı: {}'.format(df['YearBuilt'].median()))"
   ]
  },
  {
   "cell_type": "code",
   "execution_count": 17,
   "metadata": {},
   "outputs": [
    {
     "data": {
      "text/plain": [
       "1196.0"
      ]
     },
     "execution_count": 17,
     "metadata": {},
     "output_type": "execute_result"
    }
   ],
   "source": [
    "df['YearBuilt'].min()"
   ]
  },
  {
   "cell_type": "code",
   "execution_count": 18,
   "metadata": {},
   "outputs": [
    {
     "data": {
      "text/plain": [
       "2018.0"
      ]
     },
     "execution_count": 18,
     "metadata": {},
     "output_type": "execute_result"
    }
   ],
   "source": [
    "df['YearBuilt'].max()"
   ]
  },
  {
   "cell_type": "code",
   "execution_count": 21,
   "metadata": {},
   "outputs": [],
   "source": [
    "df['YearBuilt'].fillna(df['YearBuilt'].median(), inplace=True)"
   ]
  },
  {
   "cell_type": "code",
   "execution_count": 22,
   "metadata": {},
   "outputs": [
    {
     "data": {
      "text/plain": [
       "0        1970.0\n",
       "1        1900.0\n",
       "2        1900.0\n",
       "3        1970.0\n",
       "4        2014.0\n",
       "          ...  \n",
       "13575    1981.0\n",
       "13576    1995.0\n",
       "13577    1997.0\n",
       "13578    1920.0\n",
       "13579    1920.0\n",
       "Name: YearBuilt, Length: 13580, dtype: float64"
      ]
     },
     "execution_count": 22,
     "metadata": {},
     "output_type": "execute_result"
    }
   ],
   "source": [
    "df['YearBuilt']"
   ]
  },
  {
   "cell_type": "markdown",
   "metadata": {},
   "source": [
    "CouncilArea kategorik verilerden oluşmaktadır. Bu nedenle sütundaki eksik verileri mode işlemi ile dolduracağız."
   ]
  },
  {
   "cell_type": "code",
   "execution_count": 23,
   "metadata": {},
   "outputs": [
    {
     "data": {
      "text/html": [
       "<div>\n",
       "<style scoped>\n",
       "    .dataframe tbody tr th:only-of-type {\n",
       "        vertical-align: middle;\n",
       "    }\n",
       "\n",
       "    .dataframe tbody tr th {\n",
       "        vertical-align: top;\n",
       "    }\n",
       "\n",
       "    .dataframe thead th {\n",
       "        text-align: right;\n",
       "    }\n",
       "</style>\n",
       "<table border=\"1\" class=\"dataframe\">\n",
       "  <thead>\n",
       "    <tr style=\"text-align: right;\">\n",
       "      <th></th>\n",
       "      <th>Suburb</th>\n",
       "      <th>Address</th>\n",
       "      <th>Rooms</th>\n",
       "      <th>Type</th>\n",
       "      <th>Price</th>\n",
       "      <th>Method</th>\n",
       "      <th>SellerG</th>\n",
       "      <th>Date</th>\n",
       "      <th>Distance</th>\n",
       "      <th>Postcode</th>\n",
       "      <th>...</th>\n",
       "      <th>Bathroom</th>\n",
       "      <th>Car</th>\n",
       "      <th>Landsize</th>\n",
       "      <th>BuildingArea</th>\n",
       "      <th>YearBuilt</th>\n",
       "      <th>CouncilArea</th>\n",
       "      <th>Lattitude</th>\n",
       "      <th>Longtitude</th>\n",
       "      <th>Regionname</th>\n",
       "      <th>Propertycount</th>\n",
       "    </tr>\n",
       "  </thead>\n",
       "  <tbody>\n",
       "    <tr>\n",
       "      <th>0</th>\n",
       "      <td>Abbotsford</td>\n",
       "      <td>85 Turner St</td>\n",
       "      <td>2</td>\n",
       "      <td>h</td>\n",
       "      <td>1480000.0</td>\n",
       "      <td>S</td>\n",
       "      <td>Biggin</td>\n",
       "      <td>3/12/2016</td>\n",
       "      <td>2.5</td>\n",
       "      <td>3067.0</td>\n",
       "      <td>...</td>\n",
       "      <td>1.0</td>\n",
       "      <td>1.0</td>\n",
       "      <td>202.0</td>\n",
       "      <td>152.0</td>\n",
       "      <td>1970.0</td>\n",
       "      <td>Yarra</td>\n",
       "      <td>-37.7996</td>\n",
       "      <td>144.9984</td>\n",
       "      <td>Northern Metropolitan</td>\n",
       "      <td>4019.0</td>\n",
       "    </tr>\n",
       "    <tr>\n",
       "      <th>1</th>\n",
       "      <td>Abbotsford</td>\n",
       "      <td>25 Bloomburg St</td>\n",
       "      <td>2</td>\n",
       "      <td>h</td>\n",
       "      <td>1035000.0</td>\n",
       "      <td>S</td>\n",
       "      <td>Biggin</td>\n",
       "      <td>4/02/2016</td>\n",
       "      <td>2.5</td>\n",
       "      <td>3067.0</td>\n",
       "      <td>...</td>\n",
       "      <td>1.0</td>\n",
       "      <td>0.0</td>\n",
       "      <td>156.0</td>\n",
       "      <td>79.0</td>\n",
       "      <td>1900.0</td>\n",
       "      <td>Yarra</td>\n",
       "      <td>-37.8079</td>\n",
       "      <td>144.9934</td>\n",
       "      <td>Northern Metropolitan</td>\n",
       "      <td>4019.0</td>\n",
       "    </tr>\n",
       "    <tr>\n",
       "      <th>2</th>\n",
       "      <td>Abbotsford</td>\n",
       "      <td>5 Charles St</td>\n",
       "      <td>3</td>\n",
       "      <td>h</td>\n",
       "      <td>1465000.0</td>\n",
       "      <td>SP</td>\n",
       "      <td>Biggin</td>\n",
       "      <td>4/03/2017</td>\n",
       "      <td>2.5</td>\n",
       "      <td>3067.0</td>\n",
       "      <td>...</td>\n",
       "      <td>2.0</td>\n",
       "      <td>0.0</td>\n",
       "      <td>134.0</td>\n",
       "      <td>150.0</td>\n",
       "      <td>1900.0</td>\n",
       "      <td>Yarra</td>\n",
       "      <td>-37.8093</td>\n",
       "      <td>144.9944</td>\n",
       "      <td>Northern Metropolitan</td>\n",
       "      <td>4019.0</td>\n",
       "    </tr>\n",
       "    <tr>\n",
       "      <th>3</th>\n",
       "      <td>Abbotsford</td>\n",
       "      <td>40 Federation La</td>\n",
       "      <td>3</td>\n",
       "      <td>h</td>\n",
       "      <td>850000.0</td>\n",
       "      <td>PI</td>\n",
       "      <td>Biggin</td>\n",
       "      <td>4/03/2017</td>\n",
       "      <td>2.5</td>\n",
       "      <td>3067.0</td>\n",
       "      <td>...</td>\n",
       "      <td>2.0</td>\n",
       "      <td>1.0</td>\n",
       "      <td>94.0</td>\n",
       "      <td>152.0</td>\n",
       "      <td>1970.0</td>\n",
       "      <td>Yarra</td>\n",
       "      <td>-37.7969</td>\n",
       "      <td>144.9969</td>\n",
       "      <td>Northern Metropolitan</td>\n",
       "      <td>4019.0</td>\n",
       "    </tr>\n",
       "    <tr>\n",
       "      <th>4</th>\n",
       "      <td>Abbotsford</td>\n",
       "      <td>55a Park St</td>\n",
       "      <td>4</td>\n",
       "      <td>h</td>\n",
       "      <td>1600000.0</td>\n",
       "      <td>VB</td>\n",
       "      <td>Nelson</td>\n",
       "      <td>4/06/2016</td>\n",
       "      <td>2.5</td>\n",
       "      <td>3067.0</td>\n",
       "      <td>...</td>\n",
       "      <td>1.0</td>\n",
       "      <td>2.0</td>\n",
       "      <td>120.0</td>\n",
       "      <td>142.0</td>\n",
       "      <td>2014.0</td>\n",
       "      <td>Yarra</td>\n",
       "      <td>-37.8072</td>\n",
       "      <td>144.9941</td>\n",
       "      <td>Northern Metropolitan</td>\n",
       "      <td>4019.0</td>\n",
       "    </tr>\n",
       "  </tbody>\n",
       "</table>\n",
       "<p>5 rows × 21 columns</p>\n",
       "</div>"
      ],
      "text/plain": [
       "       Suburb           Address  Rooms Type      Price Method SellerG  \\\n",
       "0  Abbotsford      85 Turner St      2    h  1480000.0      S  Biggin   \n",
       "1  Abbotsford   25 Bloomburg St      2    h  1035000.0      S  Biggin   \n",
       "2  Abbotsford      5 Charles St      3    h  1465000.0     SP  Biggin   \n",
       "3  Abbotsford  40 Federation La      3    h   850000.0     PI  Biggin   \n",
       "4  Abbotsford       55a Park St      4    h  1600000.0     VB  Nelson   \n",
       "\n",
       "        Date  Distance  Postcode  ...  Bathroom  Car  Landsize  BuildingArea  \\\n",
       "0  3/12/2016       2.5    3067.0  ...       1.0  1.0     202.0         152.0   \n",
       "1  4/02/2016       2.5    3067.0  ...       1.0  0.0     156.0          79.0   \n",
       "2  4/03/2017       2.5    3067.0  ...       2.0  0.0     134.0         150.0   \n",
       "3  4/03/2017       2.5    3067.0  ...       2.0  1.0      94.0         152.0   \n",
       "4  4/06/2016       2.5    3067.0  ...       1.0  2.0     120.0         142.0   \n",
       "\n",
       "   YearBuilt  CouncilArea Lattitude  Longtitude             Regionname  \\\n",
       "0     1970.0        Yarra  -37.7996    144.9984  Northern Metropolitan   \n",
       "1     1900.0        Yarra  -37.8079    144.9934  Northern Metropolitan   \n",
       "2     1900.0        Yarra  -37.8093    144.9944  Northern Metropolitan   \n",
       "3     1970.0        Yarra  -37.7969    144.9969  Northern Metropolitan   \n",
       "4     2014.0        Yarra  -37.8072    144.9941  Northern Metropolitan   \n",
       "\n",
       "  Propertycount  \n",
       "0        4019.0  \n",
       "1        4019.0  \n",
       "2        4019.0  \n",
       "3        4019.0  \n",
       "4        4019.0  \n",
       "\n",
       "[5 rows x 21 columns]"
      ]
     },
     "execution_count": 23,
     "metadata": {},
     "output_type": "execute_result"
    }
   ],
   "source": [
    "df.head()"
   ]
  },
  {
   "cell_type": "code",
   "execution_count": 30,
   "metadata": {},
   "outputs": [
    {
     "name": "stdout",
     "output_type": "stream",
     "text": [
      "<class 'pandas.core.series.Series'>\n",
      "CouncilArea sütununun Mode: Moreland\n"
     ]
    }
   ],
   "source": [
    "print(type(df['CouncilArea'].mode()))\n",
    "print('CouncilArea sütununun Mode: {}'.format(df['CouncilArea'].mode()[0]))"
   ]
  },
  {
   "cell_type": "code",
   "execution_count": 31,
   "metadata": {},
   "outputs": [],
   "source": [
    "df['CouncilArea'].fillna(df['CouncilArea'].mode()[0], inplace=True)"
   ]
  },
  {
   "cell_type": "code",
   "execution_count": 32,
   "metadata": {},
   "outputs": [
    {
     "data": {
      "text/plain": [
       "0           Yarra\n",
       "1           Yarra\n",
       "2           Yarra\n",
       "3           Yarra\n",
       "4           Yarra\n",
       "           ...   \n",
       "13575    Moreland\n",
       "13576    Moreland\n",
       "13577    Moreland\n",
       "13578    Moreland\n",
       "13579    Moreland\n",
       "Name: CouncilArea, Length: 13580, dtype: object"
      ]
     },
     "execution_count": 32,
     "metadata": {},
     "output_type": "execute_result"
    }
   ],
   "source": [
    "df['CouncilArea']"
   ]
  },
  {
   "cell_type": "code",
   "execution_count": 33,
   "metadata": {},
   "outputs": [
    {
     "data": {
      "text/plain": [
       "0"
      ]
     },
     "execution_count": 33,
     "metadata": {},
     "output_type": "execute_result"
    }
   ],
   "source": [
    "df.isna().sum().sum()"
   ]
  },
  {
   "cell_type": "markdown",
   "metadata": {},
   "source": [
    "## Scikit-Learn Kütüphanesinin Kullanımı\n",
    "\n",
    "Makine öğrenmesi uygulamaları için hazırlanmış olan açık kaynak kodlu bir kütüphanedir. \n",
    "pip install sklearn\n",
    "\n",
    "Scikit-Learn kütüphanesi büyük ölçüde nesne yönelimli bir kullanım için hazırlanmıştır. Pek çok sınıf vardır. Sınıf ismi C olmak üzere bu işlemler tipik olarka şöyle yürütülür:\n",
    "\n",
    "1) Önce C sınıfı türünden bir nesne yaratılır. Nesne yaratılırken sınıfın `__init__` metodunda bazı parametreler için değerler girilebilmektedir. Scikit-learn kütüphanesindeki fonksiyonların ve metotların parametreleri kolay bir kullanım sağlamak için default argümanlar almıştır.\n",
    "\n",
    "c = C()\n",
    "\n",
    "2) İlgili sınıf türünden nesne yarattıktan sonra bu nesne ile ilgili sınıfın `fit` metodu çağrılır. fit metodu aldığı veriler üzerinde işlemler yaparak birtakım bilgiler elde eder ve bu bilgileri nesnenin bazı örnek özniteliklerinde saklar. fit işlemi bir dönüştürme ya da kestirim yapmamaktadır. yalnızca aldığı veriler üzerinde dönüştürme ya da kestirim için gerekli olan bilgileri elde edip saklamaktadır. bu anlamda fit işlemi bir eğitim işlemi olarak ele alınabilir.\n",
    "\n",
    "c.fit(fit_data)\n",
    "\n",
    "3) fit işleminden sonra asıl dönüştürme ya da kestirim işlemini yapacak olan transform metodu çağrılır. \n",
    "\n",
    "transformed_data = c.transform(data)\n",
    "\n",
    "transform metodu fit metodu ile elde edilen bilgiler üzerinde dönüştürme ya da kestirim yaparak dönüştürülmüş veri kümesini geri dönüş değeri olarak vermektedir. Eğitim fit ile yapıldıktan sonra transform metodu birden fazla kez çağrılarak farklı veriler dönüştürülebilir.\n",
    "\n",
    "transformed_data1 = c.transform(data1)\n",
    "transformed_data2 = c.transform(data2)\n",
    "transformed_data3 = c.transform(data3)\n",
    "\n",
    "4) Bazen fit işleminde kullanılacak veri ile dönüştürülecek veri aynı olabilir.\n",
    "\n",
    "c.fit(data)\n",
    "transformed_data = c.transform(data)\n",
    "\n",
    "Böylesi durumlarda bu işlemin tek hamlede yapılabilmesi için ilgili sınıflarda fit_transform metotları bulundurulmuştur.\n",
    "\n",
    "transformed_data = c.fit_transform(data)\n",
    "\n",
    "= \n",
    "\n",
    "c.fit(data)\n",
    "transformed_data = c.transform(data)\n",
    "\n",
    "https://scikit-learn.org/stable/\n",
    "\n"
   ]
  },
  {
   "cell_type": "markdown",
   "metadata": {},
   "source": [
    "## Kategorik (Nominal) ve Sıralı (Ordinal) Verilerin Sayısal Biçime Dönüştürülmesi\n",
    "\n",
    "Devam edilecek.\n",
    "\n",
    "Ödev: https://www.kaggle.com/datasets/zafarali27/car-price-prediction/data"
   ]
  },
  {
   "cell_type": "markdown",
   "metadata": {},
   "source": []
  }
 ],
 "metadata": {
  "kernelspec": {
   "display_name": "base",
   "language": "python",
   "name": "python3"
  },
  "language_info": {
   "codemirror_mode": {
    "name": "ipython",
    "version": 3
   },
   "file_extension": ".py",
   "mimetype": "text/x-python",
   "name": "python",
   "nbconvert_exporter": "python",
   "pygments_lexer": "ipython3",
   "version": "3.8.16"
  }
 },
 "nbformat": 4,
 "nbformat_minor": 2
}
