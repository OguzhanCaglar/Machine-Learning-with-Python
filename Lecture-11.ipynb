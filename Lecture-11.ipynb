{
 "cells": [
  {
   "cell_type": "code",
   "execution_count": 1,
   "metadata": {},
   "outputs": [
    {
     "name": "stdout",
     "output_type": "stream",
     "text": [
      "Lecture-11\n"
     ]
    }
   ],
   "source": [
    "print('Lecture-11')"
   ]
  },
  {
   "cell_type": "markdown",
   "metadata": {},
   "source": [
    "5) Modelin Test Edilmesi:\n",
    "\n",
    "Sequential.evaluate(x=None,\n",
    " y=None,\n",
    " batch_size=None,\n",
    " verbose=1,\n",
    " sample_weight=None,\n",
    " steps=None,\n",
    " callbacks=None,\n",
    " max_queue_size=10,\n",
    " workers=1,\n",
    " use_multiprocessing=False,\n",
    " return_dict=False,\n",
    " **kwargs\n",
    ") \n",
    "\n",
    "eval_result = model.evaluate(test_dataset_x, test_dataset_y)\n",
    "print(eval_result)\n",
    "\n",
    "Output: [123123, 123213] -> Bu listenin ilk elemanı test veri kümesi için loss fonksiyonundan elde edilen loss değeridir. İkinci elemannı ise compile işleminde belrittiğimiz metrik olan \"binary_accuracy\" değeridir.\n",
    "\n",
    "for i in range(len(eval_result)):\n",
    "    print(f'{model.metrics_names[i]}: {eval_result[i]}')\n",
    "\n",
    "Output: \n",
    "loss: 123123\n",
    "binary_accuracy: 123123\n",
    "\n",
    "6) Model Üzerinde Tahmin İşleminin Gerçekleştirilmesi: \n",
    "Model test edildikten sonra kullanıma hazır hale gelmiştir. Artık eğitilmiş modelimizi kestirimlerde kullanabiliriz. \n",
    "\n",
    "Seuential.predict(x,\n",
    " batch_size=None,\n",
    " verbose=0,\n",
    " steps=None,\n",
    " callbacks=None,\n",
    " max_queue_size=10,\n",
    " workers=1,\n",
    " use_multiprocessing=False\n",
    ") \n",
    "\n",
    "import numpy as np\n",
    "\n",
    "predict_data = np.array([\n",
    "    [2, 148, 58, 37, 128, 25.4, 0.699, 24],\n",
    "    [7, 114, 67, 0, 0, 32.8, 0.258, 42],\n",
    "    [5, 99, 79, 27, 0, 29, 0.203, 32]\n",
    "])\n",
    "\n",
    "predict_result = model.predict(predict_data)"
   ]
  },
  {
   "cell_type": "code",
   "execution_count": 2,
   "metadata": {},
   "outputs": [
    {
     "name": "stdout",
     "output_type": "stream",
     "text": [
      "Model: \"Sample\"\n",
      "_________________________________________________________________\n",
      " Layer (type)                Output Shape              Param #   \n",
      "=================================================================\n",
      " Hidden-1 (Dense)            (None, 64)                576       \n",
      "                                                                 \n",
      " Hidden-2 (Dense)            (None, 64)                4160      \n",
      "                                                                 \n",
      " Output (Dense)              (None, 1)                 65        \n",
      "                                                                 \n",
      "=================================================================\n",
      "Total params: 4,801\n",
      "Trainable params: 4,801\n",
      "Non-trainable params: 0\n",
      "_________________________________________________________________\n",
      "Epoch 1/200\n",
      "15/15 [==============================] - 3s 34ms/step - loss: 2.2996 - binary_accuracy: 0.5174 - val_loss: 4.3050 - val_binary_accuracy: 0.3793\n",
      "Epoch 2/200\n",
      "15/15 [==============================] - 0s 5ms/step - loss: 1.2585 - binary_accuracy: 0.6043 - val_loss: 0.9273 - val_binary_accuracy: 0.6034\n",
      "Epoch 3/200\n",
      "15/15 [==============================] - 0s 6ms/step - loss: 1.0086 - binary_accuracy: 0.6196 - val_loss: 2.4448 - val_binary_accuracy: 0.6293\n",
      "Epoch 4/200\n",
      "15/15 [==============================] - 0s 6ms/step - loss: 1.0789 - binary_accuracy: 0.6304 - val_loss: 1.5015 - val_binary_accuracy: 0.6034\n",
      "Epoch 5/200\n",
      "15/15 [==============================] - 0s 6ms/step - loss: 0.9158 - binary_accuracy: 0.6326 - val_loss: 0.7433 - val_binary_accuracy: 0.6552\n",
      "Epoch 6/200\n",
      "15/15 [==============================] - 0s 5ms/step - loss: 1.0994 - binary_accuracy: 0.6391 - val_loss: 1.4993 - val_binary_accuracy: 0.4741\n",
      "Epoch 7/200\n",
      "15/15 [==============================] - 0s 5ms/step - loss: 0.8628 - binary_accuracy: 0.6696 - val_loss: 1.0885 - val_binary_accuracy: 0.5431\n",
      "Epoch 8/200\n",
      "15/15 [==============================] - 0s 5ms/step - loss: 0.8704 - binary_accuracy: 0.6522 - val_loss: 0.7139 - val_binary_accuracy: 0.6552\n",
      "Epoch 9/200\n",
      "15/15 [==============================] - 0s 5ms/step - loss: 0.9616 - binary_accuracy: 0.6543 - val_loss: 1.0572 - val_binary_accuracy: 0.5431\n",
      "Epoch 10/200\n",
      "15/15 [==============================] - 0s 5ms/step - loss: 0.7997 - binary_accuracy: 0.6674 - val_loss: 0.8854 - val_binary_accuracy: 0.5603\n",
      "Epoch 11/200\n",
      "15/15 [==============================] - 0s 6ms/step - loss: 0.9458 - binary_accuracy: 0.6500 - val_loss: 1.4023 - val_binary_accuracy: 0.6293\n",
      "Epoch 12/200\n",
      "15/15 [==============================] - 0s 6ms/step - loss: 0.8457 - binary_accuracy: 0.6739 - val_loss: 1.7960 - val_binary_accuracy: 0.6293\n",
      "Epoch 13/200\n",
      "15/15 [==============================] - 0s 5ms/step - loss: 0.8998 - binary_accuracy: 0.6848 - val_loss: 0.6645 - val_binary_accuracy: 0.6983\n",
      "Epoch 14/200\n",
      "15/15 [==============================] - 0s 5ms/step - loss: 0.9268 - binary_accuracy: 0.6152 - val_loss: 1.3189 - val_binary_accuracy: 0.6293\n",
      "Epoch 15/200\n",
      "15/15 [==============================] - 0s 6ms/step - loss: 0.6276 - binary_accuracy: 0.7109 - val_loss: 2.1936 - val_binary_accuracy: 0.6121\n",
      "Epoch 16/200\n",
      "15/15 [==============================] - 0s 5ms/step - loss: 0.9439 - binary_accuracy: 0.6543 - val_loss: 1.9894 - val_binary_accuracy: 0.6293\n",
      "Epoch 17/200\n",
      "15/15 [==============================] - 0s 6ms/step - loss: 0.8051 - binary_accuracy: 0.6891 - val_loss: 1.2933 - val_binary_accuracy: 0.6293\n",
      "Epoch 18/200\n",
      "15/15 [==============================] - 0s 5ms/step - loss: 0.9567 - binary_accuracy: 0.6565 - val_loss: 1.4993 - val_binary_accuracy: 0.6207\n",
      "Epoch 19/200\n",
      "15/15 [==============================] - 0s 5ms/step - loss: 0.8021 - binary_accuracy: 0.6957 - val_loss: 0.9990 - val_binary_accuracy: 0.6552\n",
      "Epoch 20/200\n",
      "15/15 [==============================] - 0s 6ms/step - loss: 0.6929 - binary_accuracy: 0.6935 - val_loss: 1.0886 - val_binary_accuracy: 0.6466\n",
      "Epoch 21/200\n",
      "15/15 [==============================] - 0s 5ms/step - loss: 0.8521 - binary_accuracy: 0.6609 - val_loss: 1.0774 - val_binary_accuracy: 0.6293\n",
      "Epoch 22/200\n",
      "15/15 [==============================] - 0s 5ms/step - loss: 0.8096 - binary_accuracy: 0.6957 - val_loss: 0.6564 - val_binary_accuracy: 0.6983\n",
      "Epoch 23/200\n",
      "15/15 [==============================] - 0s 5ms/step - loss: 0.6667 - binary_accuracy: 0.6978 - val_loss: 0.7808 - val_binary_accuracy: 0.6379\n",
      "Epoch 24/200\n",
      "15/15 [==============================] - 0s 5ms/step - loss: 0.7332 - binary_accuracy: 0.7152 - val_loss: 0.9222 - val_binary_accuracy: 0.6638\n",
      "Epoch 25/200\n",
      "15/15 [==============================] - 0s 8ms/step - loss: 0.7677 - binary_accuracy: 0.6674 - val_loss: 0.8362 - val_binary_accuracy: 0.6207\n",
      "Epoch 26/200\n",
      "15/15 [==============================] - 0s 6ms/step - loss: 0.8163 - binary_accuracy: 0.6891 - val_loss: 0.9164 - val_binary_accuracy: 0.6121\n",
      "Epoch 27/200\n",
      "15/15 [==============================] - 0s 5ms/step - loss: 0.8299 - binary_accuracy: 0.6783 - val_loss: 0.8987 - val_binary_accuracy: 0.6293\n",
      "Epoch 28/200\n",
      "15/15 [==============================] - 0s 5ms/step - loss: 0.7537 - binary_accuracy: 0.7065 - val_loss: 0.8383 - val_binary_accuracy: 0.7155\n",
      "Epoch 29/200\n",
      "15/15 [==============================] - 0s 6ms/step - loss: 0.6478 - binary_accuracy: 0.7022 - val_loss: 1.0027 - val_binary_accuracy: 0.6121\n",
      "Epoch 30/200\n",
      "15/15 [==============================] - 0s 6ms/step - loss: 0.8217 - binary_accuracy: 0.6739 - val_loss: 1.3832 - val_binary_accuracy: 0.5517\n",
      "Epoch 31/200\n",
      "15/15 [==============================] - 0s 6ms/step - loss: 0.6965 - binary_accuracy: 0.6848 - val_loss: 1.0754 - val_binary_accuracy: 0.5690\n",
      "Epoch 32/200\n",
      "15/15 [==============================] - 0s 5ms/step - loss: 0.7396 - binary_accuracy: 0.6739 - val_loss: 0.7451 - val_binary_accuracy: 0.6897\n",
      "Epoch 33/200\n",
      "15/15 [==============================] - 0s 6ms/step - loss: 0.5701 - binary_accuracy: 0.7370 - val_loss: 0.8316 - val_binary_accuracy: 0.5862\n",
      "Epoch 34/200\n",
      "15/15 [==============================] - 0s 5ms/step - loss: 0.8071 - binary_accuracy: 0.6587 - val_loss: 1.0690 - val_binary_accuracy: 0.6638\n",
      "Epoch 35/200\n",
      "15/15 [==============================] - 0s 6ms/step - loss: 0.7366 - binary_accuracy: 0.6978 - val_loss: 1.1060 - val_binary_accuracy: 0.5000\n",
      "Epoch 36/200\n",
      "15/15 [==============================] - 0s 5ms/step - loss: 0.7987 - binary_accuracy: 0.6587 - val_loss: 0.8738 - val_binary_accuracy: 0.6379\n",
      "Epoch 37/200\n",
      "15/15 [==============================] - 0s 6ms/step - loss: 0.6282 - binary_accuracy: 0.7196 - val_loss: 0.7589 - val_binary_accuracy: 0.6724\n",
      "Epoch 38/200\n",
      "15/15 [==============================] - 0s 6ms/step - loss: 0.6003 - binary_accuracy: 0.7152 - val_loss: 1.7090 - val_binary_accuracy: 0.6552\n",
      "Epoch 39/200\n",
      "15/15 [==============================] - 0s 5ms/step - loss: 0.7891 - binary_accuracy: 0.6891 - val_loss: 1.2276 - val_binary_accuracy: 0.5000\n",
      "Epoch 40/200\n",
      "15/15 [==============================] - 0s 6ms/step - loss: 0.6432 - binary_accuracy: 0.6870 - val_loss: 0.9037 - val_binary_accuracy: 0.6034\n",
      "Epoch 41/200\n",
      "15/15 [==============================] - 0s 5ms/step - loss: 0.7629 - binary_accuracy: 0.7109 - val_loss: 0.8814 - val_binary_accuracy: 0.6379\n",
      "Epoch 42/200\n",
      "15/15 [==============================] - 0s 6ms/step - loss: 0.7206 - binary_accuracy: 0.6978 - val_loss: 0.7090 - val_binary_accuracy: 0.6810\n",
      "Epoch 43/200\n",
      "15/15 [==============================] - 0s 5ms/step - loss: 0.6158 - binary_accuracy: 0.7109 - val_loss: 1.1542 - val_binary_accuracy: 0.6552\n",
      "Epoch 44/200\n",
      "15/15 [==============================] - 0s 5ms/step - loss: 0.7084 - binary_accuracy: 0.7304 - val_loss: 0.6376 - val_binary_accuracy: 0.7586\n",
      "Epoch 45/200\n",
      "15/15 [==============================] - 0s 6ms/step - loss: 0.6714 - binary_accuracy: 0.7087 - val_loss: 0.9702 - val_binary_accuracy: 0.6552\n",
      "Epoch 46/200\n",
      "15/15 [==============================] - 0s 5ms/step - loss: 0.7585 - binary_accuracy: 0.7130 - val_loss: 0.7593 - val_binary_accuracy: 0.6293\n",
      "Epoch 47/200\n",
      "15/15 [==============================] - 0s 5ms/step - loss: 0.7571 - binary_accuracy: 0.7174 - val_loss: 0.6187 - val_binary_accuracy: 0.7586\n",
      "Epoch 48/200\n",
      "15/15 [==============================] - 0s 6ms/step - loss: 0.6717 - binary_accuracy: 0.7239 - val_loss: 0.7160 - val_binary_accuracy: 0.6810\n",
      "Epoch 49/200\n",
      "15/15 [==============================] - 0s 5ms/step - loss: 0.5722 - binary_accuracy: 0.7326 - val_loss: 1.5689 - val_binary_accuracy: 0.6293\n",
      "Epoch 50/200\n",
      "15/15 [==============================] - 0s 9ms/step - loss: 0.7163 - binary_accuracy: 0.7109 - val_loss: 0.6485 - val_binary_accuracy: 0.7414\n",
      "Epoch 51/200\n",
      "15/15 [==============================] - 0s 6ms/step - loss: 0.6052 - binary_accuracy: 0.7087 - val_loss: 0.8064 - val_binary_accuracy: 0.6034\n",
      "Epoch 52/200\n",
      "15/15 [==============================] - 0s 6ms/step - loss: 0.5955 - binary_accuracy: 0.7348 - val_loss: 1.7281 - val_binary_accuracy: 0.6293\n",
      "Epoch 53/200\n",
      "15/15 [==============================] - 0s 6ms/step - loss: 0.6658 - binary_accuracy: 0.7326 - val_loss: 0.8983 - val_binary_accuracy: 0.6638\n",
      "Epoch 54/200\n",
      "15/15 [==============================] - 0s 5ms/step - loss: 0.6974 - binary_accuracy: 0.6913 - val_loss: 1.1704 - val_binary_accuracy: 0.6466\n",
      "Epoch 55/200\n",
      "15/15 [==============================] - 0s 6ms/step - loss: 0.6434 - binary_accuracy: 0.7174 - val_loss: 0.8004 - val_binary_accuracy: 0.6379\n",
      "Epoch 56/200\n",
      "15/15 [==============================] - 0s 5ms/step - loss: 0.6324 - binary_accuracy: 0.7109 - val_loss: 1.0857 - val_binary_accuracy: 0.5603\n",
      "Epoch 57/200\n",
      "15/15 [==============================] - 0s 5ms/step - loss: 0.6077 - binary_accuracy: 0.7370 - val_loss: 0.7288 - val_binary_accuracy: 0.6897\n",
      "Epoch 58/200\n",
      "15/15 [==============================] - 0s 5ms/step - loss: 0.5859 - binary_accuracy: 0.7239 - val_loss: 2.0641 - val_binary_accuracy: 0.6293\n",
      "Epoch 59/200\n",
      "15/15 [==============================] - 0s 5ms/step - loss: 0.6374 - binary_accuracy: 0.7304 - val_loss: 1.1019 - val_binary_accuracy: 0.6724\n",
      "Epoch 60/200\n",
      "15/15 [==============================] - 0s 5ms/step - loss: 0.6007 - binary_accuracy: 0.7348 - val_loss: 0.6535 - val_binary_accuracy: 0.7414\n",
      "Epoch 61/200\n",
      "15/15 [==============================] - 0s 5ms/step - loss: 0.6178 - binary_accuracy: 0.7413 - val_loss: 0.7321 - val_binary_accuracy: 0.6638\n",
      "Epoch 62/200\n",
      "15/15 [==============================] - 0s 5ms/step - loss: 0.6776 - binary_accuracy: 0.7348 - val_loss: 1.0337 - val_binary_accuracy: 0.6121\n",
      "Epoch 63/200\n",
      "15/15 [==============================] - 0s 6ms/step - loss: 0.5410 - binary_accuracy: 0.7565 - val_loss: 0.8132 - val_binary_accuracy: 0.6121\n",
      "Epoch 64/200\n",
      "15/15 [==============================] - 0s 6ms/step - loss: 0.6499 - binary_accuracy: 0.7239 - val_loss: 0.8729 - val_binary_accuracy: 0.6293\n",
      "Epoch 65/200\n",
      "15/15 [==============================] - 0s 5ms/step - loss: 0.5627 - binary_accuracy: 0.7543 - val_loss: 0.7476 - val_binary_accuracy: 0.6638\n",
      "Epoch 66/200\n",
      "15/15 [==============================] - 0s 6ms/step - loss: 0.6402 - binary_accuracy: 0.7413 - val_loss: 1.5357 - val_binary_accuracy: 0.6293\n",
      "Epoch 67/200\n",
      "15/15 [==============================] - 0s 6ms/step - loss: 0.5711 - binary_accuracy: 0.7652 - val_loss: 0.8111 - val_binary_accuracy: 0.6810\n",
      "Epoch 68/200\n",
      "15/15 [==============================] - 0s 9ms/step - loss: 0.6154 - binary_accuracy: 0.7130 - val_loss: 1.1631 - val_binary_accuracy: 0.6207\n",
      "Epoch 69/200\n",
      "15/15 [==============================] - 0s 6ms/step - loss: 0.5811 - binary_accuracy: 0.7239 - val_loss: 0.7122 - val_binary_accuracy: 0.6810\n",
      "Epoch 70/200\n",
      "15/15 [==============================] - 0s 6ms/step - loss: 0.6733 - binary_accuracy: 0.6783 - val_loss: 0.7626 - val_binary_accuracy: 0.6379\n",
      "Epoch 71/200\n",
      "15/15 [==============================] - 0s 6ms/step - loss: 0.6161 - binary_accuracy: 0.7174 - val_loss: 0.8468 - val_binary_accuracy: 0.5948\n",
      "Epoch 72/200\n",
      "15/15 [==============================] - 0s 6ms/step - loss: 0.4968 - binary_accuracy: 0.7543 - val_loss: 1.2720 - val_binary_accuracy: 0.6034\n",
      "Epoch 73/200\n",
      "15/15 [==============================] - 0s 10ms/step - loss: 0.6604 - binary_accuracy: 0.7261 - val_loss: 1.4398 - val_binary_accuracy: 0.6207\n",
      "Epoch 74/200\n",
      "15/15 [==============================] - 0s 6ms/step - loss: 0.5688 - binary_accuracy: 0.7522 - val_loss: 1.0971 - val_binary_accuracy: 0.6293\n",
      "Epoch 75/200\n",
      "15/15 [==============================] - 0s 5ms/step - loss: 0.6414 - binary_accuracy: 0.7239 - val_loss: 0.7319 - val_binary_accuracy: 0.6810\n",
      "Epoch 76/200\n",
      "15/15 [==============================] - 0s 6ms/step - loss: 0.5009 - binary_accuracy: 0.7674 - val_loss: 0.7015 - val_binary_accuracy: 0.7241\n",
      "Epoch 77/200\n",
      "15/15 [==============================] - 0s 5ms/step - loss: 0.6737 - binary_accuracy: 0.6783 - val_loss: 0.6482 - val_binary_accuracy: 0.7241\n",
      "Epoch 78/200\n",
      "15/15 [==============================] - 0s 5ms/step - loss: 0.5767 - binary_accuracy: 0.7609 - val_loss: 0.7612 - val_binary_accuracy: 0.6983\n",
      "Epoch 79/200\n",
      "15/15 [==============================] - 0s 6ms/step - loss: 0.5611 - binary_accuracy: 0.7348 - val_loss: 0.6673 - val_binary_accuracy: 0.7241\n",
      "Epoch 80/200\n",
      "15/15 [==============================] - 0s 6ms/step - loss: 0.5572 - binary_accuracy: 0.7435 - val_loss: 0.7188 - val_binary_accuracy: 0.7069\n",
      "Epoch 81/200\n",
      "15/15 [==============================] - 0s 5ms/step - loss: 0.6071 - binary_accuracy: 0.7217 - val_loss: 0.9418 - val_binary_accuracy: 0.6207\n",
      "Epoch 82/200\n",
      "15/15 [==============================] - 0s 5ms/step - loss: 0.5983 - binary_accuracy: 0.7217 - val_loss: 0.6970 - val_binary_accuracy: 0.7328\n",
      "Epoch 83/200\n",
      "15/15 [==============================] - 0s 5ms/step - loss: 0.5836 - binary_accuracy: 0.7391 - val_loss: 0.6907 - val_binary_accuracy: 0.7328\n",
      "Epoch 84/200\n",
      "15/15 [==============================] - 0s 6ms/step - loss: 0.5864 - binary_accuracy: 0.7217 - val_loss: 0.7041 - val_binary_accuracy: 0.7069\n",
      "Epoch 85/200\n",
      "15/15 [==============================] - 0s 6ms/step - loss: 0.5178 - binary_accuracy: 0.7630 - val_loss: 0.8643 - val_binary_accuracy: 0.6638\n",
      "Epoch 86/200\n",
      "15/15 [==============================] - 0s 5ms/step - loss: 0.5037 - binary_accuracy: 0.7522 - val_loss: 0.7788 - val_binary_accuracy: 0.7155\n",
      "Epoch 87/200\n",
      "15/15 [==============================] - 0s 6ms/step - loss: 0.6361 - binary_accuracy: 0.7196 - val_loss: 1.2237 - val_binary_accuracy: 0.6293\n",
      "Epoch 88/200\n",
      "15/15 [==============================] - 0s 5ms/step - loss: 0.5403 - binary_accuracy: 0.7543 - val_loss: 0.8165 - val_binary_accuracy: 0.6379\n",
      "Epoch 89/200\n",
      "15/15 [==============================] - 0s 6ms/step - loss: 0.5492 - binary_accuracy: 0.7457 - val_loss: 1.5619 - val_binary_accuracy: 0.6207\n",
      "Epoch 90/200\n",
      "15/15 [==============================] - 0s 5ms/step - loss: 0.5831 - binary_accuracy: 0.7522 - val_loss: 0.8195 - val_binary_accuracy: 0.6897\n",
      "Epoch 91/200\n",
      "15/15 [==============================] - 0s 6ms/step - loss: 0.5715 - binary_accuracy: 0.7348 - val_loss: 0.9395 - val_binary_accuracy: 0.5948\n",
      "Epoch 92/200\n",
      "15/15 [==============================] - 0s 6ms/step - loss: 0.5594 - binary_accuracy: 0.7348 - val_loss: 0.7225 - val_binary_accuracy: 0.6897\n",
      "Epoch 93/200\n",
      "15/15 [==============================] - 0s 6ms/step - loss: 0.6201 - binary_accuracy: 0.7457 - val_loss: 0.6966 - val_binary_accuracy: 0.7328\n",
      "Epoch 94/200\n",
      "15/15 [==============================] - 0s 9ms/step - loss: 0.5351 - binary_accuracy: 0.7652 - val_loss: 0.8246 - val_binary_accuracy: 0.6638\n",
      "Epoch 95/200\n",
      "15/15 [==============================] - 0s 5ms/step - loss: 0.5348 - binary_accuracy: 0.7391 - val_loss: 0.6928 - val_binary_accuracy: 0.7155\n",
      "Epoch 96/200\n",
      "15/15 [==============================] - 0s 6ms/step - loss: 0.5670 - binary_accuracy: 0.7391 - val_loss: 0.8301 - val_binary_accuracy: 0.6466\n",
      "Epoch 97/200\n",
      "15/15 [==============================] - 0s 6ms/step - loss: 0.5302 - binary_accuracy: 0.7783 - val_loss: 0.9715 - val_binary_accuracy: 0.6379\n",
      "Epoch 98/200\n",
      "15/15 [==============================] - 0s 5ms/step - loss: 0.5170 - binary_accuracy: 0.7630 - val_loss: 0.9213 - val_binary_accuracy: 0.6466\n",
      "Epoch 99/200\n",
      "15/15 [==============================] - 0s 6ms/step - loss: 0.5517 - binary_accuracy: 0.7630 - val_loss: 0.9566 - val_binary_accuracy: 0.6379\n",
      "Epoch 100/200\n",
      "15/15 [==============================] - 0s 5ms/step - loss: 0.5762 - binary_accuracy: 0.7239 - val_loss: 0.7273 - val_binary_accuracy: 0.7414\n",
      "Epoch 101/200\n",
      "15/15 [==============================] - 0s 6ms/step - loss: 0.4958 - binary_accuracy: 0.7848 - val_loss: 0.9861 - val_binary_accuracy: 0.5862\n",
      "Epoch 102/200\n",
      "15/15 [==============================] - 0s 5ms/step - loss: 0.5366 - binary_accuracy: 0.7522 - val_loss: 0.7359 - val_binary_accuracy: 0.7069\n",
      "Epoch 103/200\n",
      "15/15 [==============================] - 0s 6ms/step - loss: 0.5245 - binary_accuracy: 0.7543 - val_loss: 0.9375 - val_binary_accuracy: 0.6034\n",
      "Epoch 104/200\n",
      "15/15 [==============================] - 0s 5ms/step - loss: 0.5470 - binary_accuracy: 0.7283 - val_loss: 1.1240 - val_binary_accuracy: 0.6293\n",
      "Epoch 105/200\n",
      "15/15 [==============================] - 0s 6ms/step - loss: 0.5544 - binary_accuracy: 0.7478 - val_loss: 1.2823 - val_binary_accuracy: 0.6207\n",
      "Epoch 106/200\n",
      "15/15 [==============================] - 0s 6ms/step - loss: 0.5844 - binary_accuracy: 0.7152 - val_loss: 0.7011 - val_binary_accuracy: 0.7241\n",
      "Epoch 107/200\n",
      "15/15 [==============================] - 0s 5ms/step - loss: 0.4953 - binary_accuracy: 0.7804 - val_loss: 0.9433 - val_binary_accuracy: 0.6810\n",
      "Epoch 108/200\n",
      "15/15 [==============================] - 0s 5ms/step - loss: 0.5475 - binary_accuracy: 0.7348 - val_loss: 0.7104 - val_binary_accuracy: 0.7328\n",
      "Epoch 109/200\n",
      "15/15 [==============================] - 0s 6ms/step - loss: 0.4706 - binary_accuracy: 0.7674 - val_loss: 1.0526 - val_binary_accuracy: 0.6379\n",
      "Epoch 110/200\n",
      "15/15 [==============================] - 0s 5ms/step - loss: 0.5410 - binary_accuracy: 0.7304 - val_loss: 0.7244 - val_binary_accuracy: 0.6552\n",
      "Epoch 111/200\n",
      "15/15 [==============================] - 0s 6ms/step - loss: 0.5177 - binary_accuracy: 0.7522 - val_loss: 0.7037 - val_binary_accuracy: 0.7069\n",
      "Epoch 112/200\n",
      "15/15 [==============================] - 0s 5ms/step - loss: 0.5840 - binary_accuracy: 0.7152 - val_loss: 0.6797 - val_binary_accuracy: 0.7155\n",
      "Epoch 113/200\n",
      "15/15 [==============================] - 0s 5ms/step - loss: 0.4417 - binary_accuracy: 0.7826 - val_loss: 1.0370 - val_binary_accuracy: 0.6207\n",
      "Epoch 114/200\n",
      "15/15 [==============================] - 0s 7ms/step - loss: 0.6028 - binary_accuracy: 0.7152 - val_loss: 0.7009 - val_binary_accuracy: 0.6724\n",
      "Epoch 115/200\n",
      "15/15 [==============================] - 0s 5ms/step - loss: 0.4668 - binary_accuracy: 0.7630 - val_loss: 0.6867 - val_binary_accuracy: 0.7328\n",
      "Epoch 116/200\n",
      "15/15 [==============================] - 0s 5ms/step - loss: 0.5338 - binary_accuracy: 0.7500 - val_loss: 1.0555 - val_binary_accuracy: 0.6379\n",
      "Epoch 117/200\n",
      "15/15 [==============================] - 0s 6ms/step - loss: 0.5138 - binary_accuracy: 0.7435 - val_loss: 1.0426 - val_binary_accuracy: 0.6293\n",
      "Epoch 118/200\n",
      "15/15 [==============================] - 0s 5ms/step - loss: 0.5419 - binary_accuracy: 0.7565 - val_loss: 1.4571 - val_binary_accuracy: 0.6207\n",
      "Epoch 119/200\n",
      "15/15 [==============================] - 0s 5ms/step - loss: 0.4835 - binary_accuracy: 0.7630 - val_loss: 1.1836 - val_binary_accuracy: 0.6293\n",
      "Epoch 120/200\n",
      "15/15 [==============================] - 0s 6ms/step - loss: 0.4891 - binary_accuracy: 0.7630 - val_loss: 1.1145 - val_binary_accuracy: 0.6552\n",
      "Epoch 121/200\n",
      "15/15 [==============================] - 0s 5ms/step - loss: 0.5016 - binary_accuracy: 0.7500 - val_loss: 1.0235 - val_binary_accuracy: 0.6207\n",
      "Epoch 122/200\n",
      "15/15 [==============================] - 0s 5ms/step - loss: 0.5016 - binary_accuracy: 0.7674 - val_loss: 0.8936 - val_binary_accuracy: 0.6379\n",
      "Epoch 123/200\n",
      "15/15 [==============================] - 0s 5ms/step - loss: 0.4482 - binary_accuracy: 0.7783 - val_loss: 1.1643 - val_binary_accuracy: 0.6293\n",
      "Epoch 124/200\n",
      "15/15 [==============================] - 0s 5ms/step - loss: 0.4740 - binary_accuracy: 0.7957 - val_loss: 0.7680 - val_binary_accuracy: 0.6724\n",
      "Epoch 125/200\n",
      "15/15 [==============================] - 0s 6ms/step - loss: 0.5465 - binary_accuracy: 0.7500 - val_loss: 0.7393 - val_binary_accuracy: 0.7241\n",
      "Epoch 126/200\n",
      "15/15 [==============================] - 0s 6ms/step - loss: 0.4927 - binary_accuracy: 0.7891 - val_loss: 0.9277 - val_binary_accuracy: 0.6293\n",
      "Epoch 127/200\n",
      "15/15 [==============================] - 0s 5ms/step - loss: 0.4906 - binary_accuracy: 0.7565 - val_loss: 1.0446 - val_binary_accuracy: 0.6293\n",
      "Epoch 128/200\n",
      "15/15 [==============================] - 0s 5ms/step - loss: 0.4424 - binary_accuracy: 0.7739 - val_loss: 1.4376 - val_binary_accuracy: 0.6207\n",
      "Epoch 129/200\n",
      "15/15 [==============================] - 0s 5ms/step - loss: 0.5408 - binary_accuracy: 0.7565 - val_loss: 0.9024 - val_binary_accuracy: 0.6466\n",
      "Epoch 130/200\n",
      "15/15 [==============================] - 0s 6ms/step - loss: 0.4732 - binary_accuracy: 0.7630 - val_loss: 0.7427 - val_binary_accuracy: 0.7155\n",
      "Epoch 131/200\n",
      "15/15 [==============================] - 0s 5ms/step - loss: 0.4713 - binary_accuracy: 0.7935 - val_loss: 1.4164 - val_binary_accuracy: 0.6293\n",
      "Epoch 132/200\n",
      "15/15 [==============================] - 0s 6ms/step - loss: 0.4618 - binary_accuracy: 0.7783 - val_loss: 0.7423 - val_binary_accuracy: 0.6983\n",
      "Epoch 133/200\n",
      "15/15 [==============================] - 0s 6ms/step - loss: 0.4734 - binary_accuracy: 0.7674 - val_loss: 0.7396 - val_binary_accuracy: 0.7069\n",
      "Epoch 134/200\n",
      "15/15 [==============================] - 0s 6ms/step - loss: 0.5290 - binary_accuracy: 0.7326 - val_loss: 0.9059 - val_binary_accuracy: 0.6207\n",
      "Epoch 135/200\n",
      "15/15 [==============================] - 0s 9ms/step - loss: 0.4615 - binary_accuracy: 0.7543 - val_loss: 1.5381 - val_binary_accuracy: 0.6293\n",
      "Epoch 136/200\n",
      "15/15 [==============================] - 0s 6ms/step - loss: 0.4533 - binary_accuracy: 0.7696 - val_loss: 1.1757 - val_binary_accuracy: 0.6207\n",
      "Epoch 137/200\n",
      "15/15 [==============================] - 0s 5ms/step - loss: 0.4785 - binary_accuracy: 0.7652 - val_loss: 0.7883 - val_binary_accuracy: 0.7414\n",
      "Epoch 138/200\n",
      "15/15 [==============================] - 0s 5ms/step - loss: 0.5062 - binary_accuracy: 0.7500 - val_loss: 0.8183 - val_binary_accuracy: 0.6552\n",
      "Epoch 139/200\n",
      "15/15 [==============================] - 0s 5ms/step - loss: 0.4508 - binary_accuracy: 0.7957 - val_loss: 0.7034 - val_binary_accuracy: 0.7586\n",
      "Epoch 140/200\n",
      "15/15 [==============================] - 0s 5ms/step - loss: 0.4507 - binary_accuracy: 0.7652 - val_loss: 0.8077 - val_binary_accuracy: 0.7328\n",
      "Epoch 141/200\n",
      "15/15 [==============================] - 0s 5ms/step - loss: 0.4508 - binary_accuracy: 0.7739 - val_loss: 0.9356 - val_binary_accuracy: 0.6638\n",
      "Epoch 142/200\n",
      "15/15 [==============================] - 0s 5ms/step - loss: 0.4616 - binary_accuracy: 0.7739 - val_loss: 0.8652 - val_binary_accuracy: 0.6638\n",
      "Epoch 143/200\n",
      "15/15 [==============================] - 0s 6ms/step - loss: 0.5550 - binary_accuracy: 0.7652 - val_loss: 0.8971 - val_binary_accuracy: 0.6810\n",
      "Epoch 144/200\n",
      "15/15 [==============================] - 0s 6ms/step - loss: 0.4350 - binary_accuracy: 0.7913 - val_loss: 0.7629 - val_binary_accuracy: 0.7414\n",
      "Epoch 145/200\n",
      "15/15 [==============================] - 0s 6ms/step - loss: 0.4499 - binary_accuracy: 0.7891 - val_loss: 0.8474 - val_binary_accuracy: 0.6638\n",
      "Epoch 146/200\n",
      "15/15 [==============================] - 0s 6ms/step - loss: 0.4722 - binary_accuracy: 0.7826 - val_loss: 0.7994 - val_binary_accuracy: 0.7069\n",
      "Epoch 147/200\n",
      "15/15 [==============================] - 0s 6ms/step - loss: 0.4629 - binary_accuracy: 0.7761 - val_loss: 0.8705 - val_binary_accuracy: 0.7069\n",
      "Epoch 148/200\n",
      "15/15 [==============================] - 0s 5ms/step - loss: 0.5148 - binary_accuracy: 0.7435 - val_loss: 0.9746 - val_binary_accuracy: 0.6121\n",
      "Epoch 149/200\n",
      "15/15 [==============================] - 0s 5ms/step - loss: 0.4318 - binary_accuracy: 0.7870 - val_loss: 0.8252 - val_binary_accuracy: 0.6552\n",
      "Epoch 150/200\n",
      "15/15 [==============================] - 0s 5ms/step - loss: 0.4690 - binary_accuracy: 0.7696 - val_loss: 0.8527 - val_binary_accuracy: 0.6724\n",
      "Epoch 151/200\n",
      "15/15 [==============================] - 0s 5ms/step - loss: 0.4515 - binary_accuracy: 0.7783 - val_loss: 0.8121 - val_binary_accuracy: 0.6983\n",
      "Epoch 152/200\n",
      "15/15 [==============================] - 0s 5ms/step - loss: 0.5102 - binary_accuracy: 0.7435 - val_loss: 0.9431 - val_binary_accuracy: 0.6638\n",
      "Epoch 153/200\n",
      "15/15 [==============================] - 0s 5ms/step - loss: 0.4290 - binary_accuracy: 0.7891 - val_loss: 0.8836 - val_binary_accuracy: 0.6638\n",
      "Epoch 154/200\n",
      "15/15 [==============================] - 0s 9ms/step - loss: 0.4611 - binary_accuracy: 0.7674 - val_loss: 0.7989 - val_binary_accuracy: 0.7155\n",
      "Epoch 155/200\n",
      "15/15 [==============================] - 0s 6ms/step - loss: 0.4255 - binary_accuracy: 0.8130 - val_loss: 0.8056 - val_binary_accuracy: 0.7155\n",
      "Epoch 156/200\n",
      "15/15 [==============================] - 0s 5ms/step - loss: 0.4229 - binary_accuracy: 0.7978 - val_loss: 1.3491 - val_binary_accuracy: 0.6207\n",
      "Epoch 157/200\n",
      "15/15 [==============================] - 0s 5ms/step - loss: 0.4368 - binary_accuracy: 0.7978 - val_loss: 0.9664 - val_binary_accuracy: 0.6638\n",
      "Epoch 158/200\n",
      "15/15 [==============================] - 0s 5ms/step - loss: 0.4601 - binary_accuracy: 0.7826 - val_loss: 0.9512 - val_binary_accuracy: 0.6379\n",
      "Epoch 159/200\n",
      "15/15 [==============================] - 0s 5ms/step - loss: 0.4466 - binary_accuracy: 0.7804 - val_loss: 0.8406 - val_binary_accuracy: 0.6897\n",
      "Epoch 160/200\n",
      "15/15 [==============================] - 0s 6ms/step - loss: 0.4623 - binary_accuracy: 0.7761 - val_loss: 1.0335 - val_binary_accuracy: 0.6810\n",
      "Epoch 161/200\n",
      "15/15 [==============================] - 0s 6ms/step - loss: 0.3976 - binary_accuracy: 0.8065 - val_loss: 0.8530 - val_binary_accuracy: 0.6897\n",
      "Epoch 162/200\n",
      "15/15 [==============================] - 0s 5ms/step - loss: 0.4924 - binary_accuracy: 0.7717 - val_loss: 0.8484 - val_binary_accuracy: 0.6897\n",
      "Epoch 163/200\n",
      "15/15 [==============================] - 0s 5ms/step - loss: 0.4116 - binary_accuracy: 0.7826 - val_loss: 0.9041 - val_binary_accuracy: 0.6724\n",
      "Epoch 164/200\n",
      "15/15 [==============================] - 0s 6ms/step - loss: 0.4834 - binary_accuracy: 0.7848 - val_loss: 0.8405 - val_binary_accuracy: 0.6638\n",
      "Epoch 165/200\n",
      "15/15 [==============================] - 0s 5ms/step - loss: 0.4045 - binary_accuracy: 0.7957 - val_loss: 0.8937 - val_binary_accuracy: 0.6293\n",
      "Epoch 166/200\n",
      "15/15 [==============================] - 0s 6ms/step - loss: 0.4861 - binary_accuracy: 0.7522 - val_loss: 0.8761 - val_binary_accuracy: 0.6810\n",
      "Epoch 167/200\n",
      "15/15 [==============================] - 0s 6ms/step - loss: 0.4257 - binary_accuracy: 0.7891 - val_loss: 0.9663 - val_binary_accuracy: 0.6724\n",
      "Epoch 168/200\n",
      "15/15 [==============================] - 0s 7ms/step - loss: 0.4209 - binary_accuracy: 0.7826 - val_loss: 0.9417 - val_binary_accuracy: 0.6638\n",
      "Epoch 169/200\n",
      "15/15 [==============================] - 0s 5ms/step - loss: 0.3961 - binary_accuracy: 0.7870 - val_loss: 1.0802 - val_binary_accuracy: 0.6293\n",
      "Epoch 170/200\n",
      "15/15 [==============================] - 0s 5ms/step - loss: 0.4252 - binary_accuracy: 0.7891 - val_loss: 0.9138 - val_binary_accuracy: 0.6552\n",
      "Epoch 171/200\n",
      "15/15 [==============================] - 0s 5ms/step - loss: 0.4320 - binary_accuracy: 0.7957 - val_loss: 1.1602 - val_binary_accuracy: 0.6121\n",
      "Epoch 172/200\n",
      "15/15 [==============================] - 0s 5ms/step - loss: 0.4297 - binary_accuracy: 0.7978 - val_loss: 0.9373 - val_binary_accuracy: 0.6810\n",
      "Epoch 173/200\n",
      "15/15 [==============================] - 0s 6ms/step - loss: 0.3879 - binary_accuracy: 0.8130 - val_loss: 1.2703 - val_binary_accuracy: 0.6293\n",
      "Epoch 174/200\n",
      "15/15 [==============================] - 0s 6ms/step - loss: 0.4170 - binary_accuracy: 0.7935 - val_loss: 0.8647 - val_binary_accuracy: 0.6379\n",
      "Epoch 175/200\n",
      "15/15 [==============================] - 0s 6ms/step - loss: 0.4549 - binary_accuracy: 0.7957 - val_loss: 1.0282 - val_binary_accuracy: 0.6638\n",
      "Epoch 176/200\n",
      "15/15 [==============================] - 0s 6ms/step - loss: 0.3883 - binary_accuracy: 0.8000 - val_loss: 0.9576 - val_binary_accuracy: 0.6724\n",
      "Epoch 177/200\n",
      "15/15 [==============================] - 0s 6ms/step - loss: 0.4130 - binary_accuracy: 0.7957 - val_loss: 1.0987 - val_binary_accuracy: 0.6810\n",
      "Epoch 178/200\n",
      "15/15 [==============================] - 0s 6ms/step - loss: 0.4033 - binary_accuracy: 0.8022 - val_loss: 0.8915 - val_binary_accuracy: 0.6638\n",
      "Epoch 179/200\n",
      "15/15 [==============================] - 0s 6ms/step - loss: 0.3973 - binary_accuracy: 0.8109 - val_loss: 1.1141 - val_binary_accuracy: 0.6638\n",
      "Epoch 180/200\n",
      "15/15 [==============================] - 0s 5ms/step - loss: 0.4029 - binary_accuracy: 0.7957 - val_loss: 0.9272 - val_binary_accuracy: 0.6897\n",
      "Epoch 181/200\n",
      "15/15 [==============================] - 0s 6ms/step - loss: 0.3941 - binary_accuracy: 0.8261 - val_loss: 0.9280 - val_binary_accuracy: 0.6121\n",
      "Epoch 182/200\n",
      "15/15 [==============================] - 0s 5ms/step - loss: 0.3858 - binary_accuracy: 0.8348 - val_loss: 0.9463 - val_binary_accuracy: 0.6466\n",
      "Epoch 183/200\n",
      "15/15 [==============================] - 0s 5ms/step - loss: 0.4152 - binary_accuracy: 0.7891 - val_loss: 0.8091 - val_binary_accuracy: 0.6897\n",
      "Epoch 184/200\n",
      "15/15 [==============================] - 0s 6ms/step - loss: 0.4084 - binary_accuracy: 0.8087 - val_loss: 0.9010 - val_binary_accuracy: 0.6121\n",
      "Epoch 185/200\n",
      "15/15 [==============================] - 0s 5ms/step - loss: 0.4240 - binary_accuracy: 0.7761 - val_loss: 1.4826 - val_binary_accuracy: 0.6207\n",
      "Epoch 186/200\n",
      "15/15 [==============================] - 0s 5ms/step - loss: 0.3801 - binary_accuracy: 0.8087 - val_loss: 0.8051 - val_binary_accuracy: 0.7241\n",
      "Epoch 187/200\n",
      "15/15 [==============================] - 0s 5ms/step - loss: 0.4406 - binary_accuracy: 0.8087 - val_loss: 1.1228 - val_binary_accuracy: 0.6638\n",
      "Epoch 188/200\n",
      "15/15 [==============================] - 0s 5ms/step - loss: 0.3781 - binary_accuracy: 0.7891 - val_loss: 0.8522 - val_binary_accuracy: 0.7241\n",
      "Epoch 189/200\n",
      "15/15 [==============================] - 0s 6ms/step - loss: 0.3888 - binary_accuracy: 0.8174 - val_loss: 0.8555 - val_binary_accuracy: 0.7414\n",
      "Epoch 190/200\n",
      "15/15 [==============================] - 0s 10ms/step - loss: 0.3972 - binary_accuracy: 0.8087 - val_loss: 1.2390 - val_binary_accuracy: 0.6293\n",
      "Epoch 191/200\n",
      "15/15 [==============================] - 0s 6ms/step - loss: 0.3684 - binary_accuracy: 0.8348 - val_loss: 1.0090 - val_binary_accuracy: 0.6638\n",
      "Epoch 192/200\n",
      "15/15 [==============================] - 0s 6ms/step - loss: 0.4249 - binary_accuracy: 0.8022 - val_loss: 0.8223 - val_binary_accuracy: 0.6983\n",
      "Epoch 193/200\n",
      "15/15 [==============================] - 0s 6ms/step - loss: 0.3999 - binary_accuracy: 0.7978 - val_loss: 0.8100 - val_binary_accuracy: 0.7414\n",
      "Epoch 194/200\n",
      "15/15 [==============================] - 0s 5ms/step - loss: 0.3594 - binary_accuracy: 0.8457 - val_loss: 1.2274 - val_binary_accuracy: 0.6293\n",
      "Epoch 195/200\n",
      "15/15 [==============================] - 0s 6ms/step - loss: 0.4295 - binary_accuracy: 0.7935 - val_loss: 0.9579 - val_binary_accuracy: 0.6983\n",
      "Epoch 196/200\n",
      "15/15 [==============================] - 0s 5ms/step - loss: 0.3677 - binary_accuracy: 0.8152 - val_loss: 1.2387 - val_binary_accuracy: 0.6293\n",
      "Epoch 197/200\n",
      "15/15 [==============================] - 0s 6ms/step - loss: 0.3991 - binary_accuracy: 0.7891 - val_loss: 0.8907 - val_binary_accuracy: 0.6897\n",
      "Epoch 198/200\n",
      "15/15 [==============================] - 0s 6ms/step - loss: 0.3873 - binary_accuracy: 0.8043 - val_loss: 1.0273 - val_binary_accuracy: 0.6983\n",
      "Epoch 199/200\n",
      "15/15 [==============================] - 0s 6ms/step - loss: 0.4117 - binary_accuracy: 0.7913 - val_loss: 0.9487 - val_binary_accuracy: 0.6810\n",
      "Epoch 200/200\n",
      "15/15 [==============================] - 0s 6ms/step - loss: 0.3942 - binary_accuracy: 0.8435 - val_loss: 0.8968 - val_binary_accuracy: 0.7241\n"
     ]
    },
    {
     "data": {
      "text/plain": [
       "<keras.callbacks.History at 0x1ef07d7dd60>"
      ]
     },
     "execution_count": 2,
     "metadata": {},
     "output_type": "execute_result"
    }
   ],
   "source": [
    "import pandas as pd\n",
    "\n",
    "df = pd.read_csv('diabetes.csv')\n",
    "\n",
    "dataset_x = df.iloc[:, :-1].to_numpy()\n",
    "dataset_y = df.iloc[:, -1].to_numpy()\n",
    "\n",
    "from sklearn.model_selection import train_test_split\n",
    "\n",
    "training_dataset_x, test_dataset_x, training_dataset_y, test_dataset_y = train_test_split(dataset_x, dataset_y)\n",
    "\n",
    "from tensorflow.keras import Sequential\n",
    "from tensorflow.keras.layers import Dense\n",
    "\n",
    "model = Sequential(name='Sample')\n",
    "model.add(Dense(64, activation='relu', input_dim=dataset_x.shape[1], name = 'Hidden-1'))\n",
    "model.add(Dense(64, activation='relu', name = 'Hidden-2'))\n",
    "model.add(Dense(1,  activation='sigmoid', name = 'Output'))\n",
    "\n",
    "model.summary()\n",
    "\n",
    "model.compile(optimizer='rmsprop', loss='binary_crossentropy', metrics=['binary_accuracy'])\n",
    "model.fit(training_dataset_x, training_dataset_y, epochs=200, validation_split=0.2)"
   ]
  },
  {
   "cell_type": "code",
   "execution_count": 3,
   "metadata": {},
   "outputs": [
    {
     "name": "stdout",
     "output_type": "stream",
     "text": [
      "6/6 [==============================] - 0s 2ms/step - loss: 0.9024 - binary_accuracy: 0.6510\n",
      "***** Evaluation Result Report *****\n",
      "[0.9023799896240234, 0.6510416865348816]\n"
     ]
    }
   ],
   "source": [
    "eval_result = model.evaluate(test_dataset_x, test_dataset_y)\n",
    "print(\"***** Evaluation Result Report *****\")\n",
    "print(eval_result)"
   ]
  },
  {
   "cell_type": "code",
   "execution_count": 4,
   "metadata": {},
   "outputs": [
    {
     "name": "stdout",
     "output_type": "stream",
     "text": [
      "loss: 0.9023799896240234\n",
      "binary_accuracy: 0.6510416865348816\n"
     ]
    }
   ],
   "source": [
    "for i in range(len(eval_result)):\n",
    "    print(f'{model.metrics_names[i]}: {eval_result[i]}')"
   ]
  },
  {
   "cell_type": "code",
   "execution_count": 5,
   "metadata": {},
   "outputs": [
    {
     "name": "stdout",
     "output_type": "stream",
     "text": [
      "1/1 [==============================] - 0s 123ms/step\n",
      "0.48699877\n",
      "0.52553254\n",
      "0.16897587\n"
     ]
    }
   ],
   "source": [
    "import numpy as np\n",
    "\n",
    "predict_data = np.array([\n",
    "    [2, 148, 58, 37, 128, 25.4, 0.699, 24],\n",
    "    [7, 114, 67, 0, 0, 32.8, 0.258, 42],\n",
    "    [5, 99, 79, 27, 0, 29, 0.203, 32]\n",
    "])\n",
    "\n",
    "predict_result = model.predict(predict_data)\n",
    "\n",
    "for i in range(len(predict_result)):\n",
    "    print(predict_result[i, 0])"
   ]
  },
  {
   "cell_type": "code",
   "execution_count": 6,
   "metadata": {},
   "outputs": [
    {
     "name": "stdout",
     "output_type": "stream",
     "text": [
      "Şeker Hastası Değil\n",
      "Şeker Hastası\n",
      "Şeker Hastası Değil\n"
     ]
    }
   ],
   "source": [
    "for i in range(len(predict_result)):\n",
    "    print(\"Şeker Hastası\" if predict_result[i, 0] > 0.5 else \"Şeker Hastası Değil\")"
   ]
  },
  {
   "cell_type": "markdown",
   "metadata": {},
   "source": [
    "## Keras'ta Modelin Eğitiminde Kullanılan Kavramların Özeti\n",
    "\n",
    "Temel olarak bir sinir ağı eğitilirken üç veri kümesi söz konusudur.\n",
    "- Eğitim Veri Kümesi (Training Dataset)\n",
    "- Sınama Veri Kümesi (Validation Dataset) -> %20\n",
    "- Test Veri Kümesi (Test Dataset) -> %20\n",
    "\n",
    "Sınama veri kümesi eğitim sürecinde her epoch işleminden sonra sınama yapılırken kullanılmaktadır. Sınama veri kümesi her epoch işleminden sonra uygulandığı için modelin epoch işlemlerine göre davranış gözlenebilmektedir. Halbuki test veri kümesi tüm model eğitildikten sonra perfomans ölçütlerini belirlemek için kullanılmaktadır. \n",
    "\n",
    "Model eğitilirken her batch_size kadar satır bir araya getirilerek vektörel biçimde işleme sokulmaktadır. Yani eğitim işlemi birer birer değil batch batch yürütülmektedir. Loss fonksiyonun hesaplanması, optimizasyon algoritmasıyla \"w\" ve \"bias\" değerlerinni güncellenmesi her batch işleminden sonra yapılmaktadır.\n",
    "\n",
    "Loss fonksiyonu \"w\" ve \"bias\" değerlerinni güncellenmesi için bir amaç fonksiyonu olarak kullanılır. Optimizasyon algoritması ise loss fonksiyonunu minimize etmek için \"w\" ve \"bias\" değerlerinni nasıl güncelleneceğini belirten algoritmadır. \n",
    "\n",
    "Metrik Fonksiyonlar sınama süreci ile ilgilidir. Sınama işlemi için birden fazla metrik fonksiyonu kullanılmaktedir. Peki Loss fonksiyonu ile metrik fonksiyonları arasında ne fark vardır? İşte loss fonksiynu optimizasyon algoritmasını uygulamak için bir hedef belirtirken metrik fonksiyonları ise eğitim sürecinin gidişatı hakkında bilgi vermektedir."
   ]
  },
  {
   "cell_type": "markdown",
   "metadata": {},
   "source": [
    "#### BATCH\n",
    "\n",
    "Peki girdilerin teker teker eğitime sokulmayıp grup grup sokulmasının ne anlamı vardır? Hızlandırma sağlayacağı kesindir. 32 olarak batch_szie kabul edelim. Bu durumda tipik olarak 32'lik bir kümenin elemanları tek hamlede vektörel bir biçimde (yani tek hamlede ama ayrı ayrı) ağa sokulup buradan bir ortlama bir loss değeri hesaplanmaktadır. Sonra hesaplanan bu ortalama değer optimizasyon algoritmasına verilmektedir. Böylece \"w\" ve \"bias\" değerlerinni güncellenmesi satır satır değil batch batch grup halinde ypaılmaktadır. Loss değerinin bu biçimde hesaplanması genel olarak hesaplamayı hızlandırmaktadır. İşlemlerin hızlandırmasının dışında batch işlemleri anı zamanda \"overfitting\" olgusuna karşı da bir direnç oluşturabilmektedir."
   ]
  },
  {
   "cell_type": "markdown",
   "metadata": {},
   "source": [
    "## Katman Nöronlarında Kullanılan Aktivasyon Fonksiyonları\n",
    "\n",
    "Ara katmanlarda en çok tercih edilen aktivasyon fonksiyonu \"ReLU (Rectified Linear Unit)\" isimli fonksiyondur. ReLU fonksiyonu negatif değerler için 0 değerini, pozitif değerler için de girdi ile aynı değerleri veren bir fonksiyondur.\n",
    "\n",
    "relu(x) = maximum(0, x)"
   ]
  },
  {
   "cell_type": "code",
   "execution_count": 7,
   "metadata": {},
   "outputs": [],
   "source": [
    "def relu(x):\n",
    "    return np.maximum(0, x)\n",
    "\n",
    "def myrelu(x):\n",
    "    return x * (x > 0)\n",
    "\n"
   ]
  },
  {
   "cell_type": "code",
   "execution_count": 8,
   "metadata": {},
   "outputs": [
    {
     "data": {
      "image/png": "[encoded data removed]",
      "text/plain": [
       "<Figure size 640x480 with 1 Axes>"
      ]
     },
     "metadata": {},
     "output_type": "display_data"
    }
   ],
   "source": [
    "import numpy as np\n",
    "import matplotlib.pyplot as plt\n",
    "\n",
    "def relu(x):\n",
    "    return np.maximum(0, x)\n",
    "\n",
    "x = np.linspace(-10, 10, 100)\n",
    "y = relu(x)\n",
    "\n",
    "plt.title('RELU Fonksiyonun Grafiği', pad=15, fontweight='bold')\n",
    "axis = plt.gca()\n",
    "axis.spines['left'].set_position('center')\n",
    "axis.spines['bottom'].set_position('center')\n",
    "axis.spines['top'].set_color(None)\n",
    "axis.spines['right'].set_color(None)\n",
    "\n",
    "axis.set_ylim([-5, 5])\n",
    "axis.set_yticks(range(-5, 6))\n",
    "axis.set_xticks(range(-10, 11, 2))\n",
    "plt.plot(x, y, linewidth=3)\n",
    "plt.show()"
   ]
  },
  {
   "attachments": {
    "image-2.png": {
     "image/png": "[encoded data removed]"
    },
    "image.png": {
     "image/png": "[encoded data removed]"
    }
   },
   "cell_type": "markdown",
   "metadata": {},
   "source": [
    "İkili sınıflandırma problemlerinde çıktı katmanlarında kullanılan önemli bir aktivasyon fonksiyonu da \"sigmoid\" isimli fonksiyondur. Bu fonksiyona \"lojistik fonksiyon\" da denilmektedir.\n",
    "\n",
    "![image.png](attachment:image.png)\n",
    "\n",
    "![image-2.png](attachment:image-2.png)"
   ]
  },
  {
   "cell_type": "code",
   "execution_count": 9,
   "metadata": {},
   "outputs": [
    {
     "data": {
      "image/png": "[encoded data removed]",
      "text/plain": [
       "<Figure size 640x480 with 1 Axes>"
      ]
     },
     "metadata": {},
     "output_type": "display_data"
    }
   ],
   "source": [
    "def sigmoid(x):\n",
    "    return 1 / (1 + np.e ** - x)\n",
    "\n",
    "x = np.linspace(-10, 10, 100)\n",
    "y = sigmoid(x)\n",
    "\n",
    "plt.title('Sigmoid Fonksiyonun Grafiği', pad=20, fontweight='bold')\n",
    "axis = plt.gca()\n",
    "axis.spines['left'].set_position('center')\n",
    "axis.spines['bottom'].set_position('center')\n",
    "axis.spines['top'].set_color(None)\n",
    "axis.spines['right'].set_color(None)\n",
    "\n",
    "axis.set_ylim([-1, 1])\n",
    "axis.set_xticks(range(-10, 11, 2))\n",
    "plt.plot(x, y, linewidth=3)\n",
    "plt.show()"
   ]
  },
  {
   "cell_type": "markdown",
   "metadata": {},
   "source": [
    "Sigmoid fonksiyonu saklı katmanlarda ve çıktı katmanlarında kullanılabilmektedir. Bu fonksiyon özellikle ikili sınıflandırma problemleri için çıktı katmanları için tercih edilmektedir. Sigmoid fonksiyonunun S şekline benzediğine ve (0, 1) arasında değer verdiğine dikkat edelim. Bu fonksiyonu x = 0 için y = 0.5 değerini vermektedir. x'in pozitif değerleri için y değerinin 1'e yaklaştığını, x'in negatif değerleri için ise 0'a yaklaştığını gözlemliyoruz. Sigmoid'in en önemli özelliği x'in her değerini 0 ile 1 arasında bir değere eşlemesidir. Dolayısıyla sigmoid fonksiyonu serbest x değerlerini 0 ile 1 arasına hapsetmektedir.\n",
    "\n"
   ]
  },
  {
   "cell_type": "code",
   "execution_count": 10,
   "metadata": {},
   "outputs": [
    {
     "name": "stdout",
     "output_type": "stream",
     "text": [
      "exp(x)/(exp(x) + 1) - exp(2*x)/(exp(x) + 1)**2\n"
     ]
    }
   ],
   "source": [
    "import sympy\n",
    "\n",
    "x = sympy.Symbol('x')\n",
    "fx = sympy.E ** x / (1 + sympy.E ** x)\n",
    "dx = sympy.diff(fx, x)\n",
    "\n",
    "print(dx)"
   ]
  },
  {
   "cell_type": "code",
   "execution_count": 11,
   "metadata": {},
   "outputs": [
    {
     "data": {
      "image/png": "[encoded data removed]",
      "text/plain": [
       "<Figure size 640x480 with 1 Axes>"
      ]
     },
     "metadata": {},
     "output_type": "display_data"
    }
   ],
   "source": [
    "pdx = sympy.lambdify(x, dx)\n",
    "\n",
    "x = np.linspace(-10, 10, 1000)\n",
    "y = pdx(x)\n",
    "\n",
    "plt.title('Sigmoid Fonksiyonun Birinci Türevinin Grafiği', fontsize=14, pad=20, fontweight='bold')\n",
    "axis = plt.gca()\n",
    "axis.spines['left'].set_position('center')\n",
    "axis.spines['bottom'].set_position('center')\n",
    "axis.spines['top'].set_color(None)\n",
    "axis.spines['right'].set_color(None)\n",
    "\n",
    "axis.set_ylim(-0.4, 0.4)\n",
    "\n",
    "plt.plot(x, y)\n",
    "plt.show()"
   ]
  },
  {
   "cell_type": "code",
   "execution_count": 12,
   "metadata": {},
   "outputs": [
    {
     "data": {
      "image/png": "[encoded data removed]",
      "text/latex": [
       "$\\displaystyle \\frac{e^{x}}{e^{x} + 1} - \\frac{e^{2 x}}{\\left(e^{x} + 1\\right)^{2}}$"
      ],
      "text/plain": [
       "   x         2⋅x  \n",
       "  ℯ         ℯ     \n",
       "────── - ─────────\n",
       " x               2\n",
       "ℯ  + 1   ⎛ x    ⎞ \n",
       "         ⎝ℯ  + 1⎠ "
      ]
     },
     "execution_count": 12,
     "metadata": {},
     "output_type": "execute_result"
    }
   ],
   "source": [
    "from sympy import init_printing\n",
    "\n",
    "init_printing()\n",
    "\n",
    "dx"
   ]
  },
  {
   "attachments": {
    "image.png": {
     "image/png": "[encoded data removed]"
    }
   },
   "cell_type": "markdown",
   "metadata": {},
   "source": [
    "Sigmoid fonksiyonuna benzeyen bir aktivasyon fonksiyonu da \"hiperbolik tanjant (hyperbolic tangent)\" fonksiyonudur. \"tanh\". \n",
    "\n",
    "![image.png](attachment:image.png)"
   ]
  },
  {
   "cell_type": "code",
   "execution_count": 14,
   "metadata": {},
   "outputs": [
    {
     "data": {
      "image/png": "[encoded data removed]",
      "text/plain": [
       "<Figure size 640x480 with 1 Axes>"
      ]
     },
     "metadata": {},
     "output_type": "display_data"
    }
   ],
   "source": [
    "def tanh(x):\n",
    "    return (np.e ** (2 * x) - 1) / (np.e ** (2 * x) + 1)\n",
    "\n",
    "x = np.linspace(-10, 10, 1000)\n",
    "y = tanh(x)\n",
    "\n",
    "plt.title('Hiperbolik Tanjant (tanh) Fonksiyonun Grafiği', pad=20, fontweight='bold')\n",
    "axis = plt.gca()\n",
    "axis.spines['left'].set_position('center')\n",
    "axis.spines['bottom'].set_position('center')\n",
    "axis.spines['top'].set_color(None)\n",
    "axis.spines['right'].set_color(None)\n",
    "\n",
    "axis.set_ylim(-1, 1)\n",
    "plt.plot(x, y)\n",
    "plt.show()"
   ]
  },
  {
   "cell_type": "markdown",
   "metadata": {},
   "source": [
    "Fonksiyon yine S şekline benzemektedir. Ancak fonksiyon çıktı olarak sigmoid fonksiyonun gibi (0, 1) arasında değil (-1, 1) aralığında değer vermektedir. Başka bir deyişle tanh fonksiyonu çıktıyı (-1, 1) aralığına hapsetmektedir.\n",
    "\n",
    "Hiperbolik tanjant fonksiyonu çeşitli problemler için daha çok ara katmanlarda kullanılmaktadır. Ancak bu fonksiyon ikili sınıflandırma problemleri için çıktı katmanında da kullanılabilir.\n",
    "\n",
    "ÖDEV: Hiperbolik tanjant fonksiyonunun birinci türevini alıp grafiğini çizelim.\n",
    "ÖDEV: Linear Fonksiyonu ve Softmax fonksiyonlarını araştırınız. Linear Fonksiyonunun grafiğini çiziniz."
   ]
  },
  {
   "cell_type": "markdown",
   "metadata": {},
   "source": []
  }
 ],
 "metadata": {
  "kernelspec": {
   "display_name": "base",
   "language": "python",
   "name": "python3"
  },
  "language_info": {
   "codemirror_mode": {
    "name": "ipython",
    "version": 3
   },
   "file_extension": ".py",
   "mimetype": "text/x-python",
   "name": "python",
   "nbconvert_exporter": "python",
   "pygments_lexer": "ipython3",
   "version": "3.8.16"
  }
 },
 "nbformat": 4,
 "nbformat_minor": 2
}
